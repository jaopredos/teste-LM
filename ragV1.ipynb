{
  "nbformat": 4,
  "nbformat_minor": 0,
  "metadata": {
    "colab": {
      "provenance": [],
      "gpuType": "T4",
      "authorship_tag": "ABX9TyOFnY+Na+HKW8XnIc+VYcjl",
      "include_colab_link": true
    },
    "kernelspec": {
      "name": "python3",
      "display_name": "Python 3"
    },
    "language_info": {
      "name": "python"
    },
    "accelerator": "GPU"
  },
  "cells": [
    {
      "cell_type": "markdown",
      "metadata": {
        "id": "view-in-github",
        "colab_type": "text"
      },
      "source": [
        "<a href=\"https://colab.research.google.com/github/jaopredos/teste-LM/blob/main/ragV1.ipynb\" target=\"_parent\"><img src=\"https://colab.research.google.com/assets/colab-badge.svg\" alt=\"Open In Colab\"/></a>"
      ]
    },
    {
      "cell_type": "code",
      "source": [
        "!pip install chromadb"
      ],
      "metadata": {
        "id": "RbGj8A9RA4l0"
      },
      "execution_count": null,
      "outputs": []
    },
    {
      "cell_type": "code",
      "source": [
        "from google.colab import userdata\n",
        "\n",
        "openai_api_key = userdata.get('OPENAI_API_KEY')"
      ],
      "metadata": {
        "id": "-WvZnoS5MiiF"
      },
      "execution_count": null,
      "outputs": []
    },
    {
      "cell_type": "markdown",
      "source": [
        "# IMPORTANDO AS BIBLIOTECAS NECESSÁRIAS"
      ],
      "metadata": {
        "id": "AnL1v-h6AzLk"
      }
    },
    {
      "cell_type": "code",
      "execution_count": null,
      "metadata": {
        "id": "2TxL_1x2AtML"
      },
      "outputs": [],
      "source": [
        "import os\n",
        "from langchain_community.document_loaders import PyPDFLoader\n",
        "from langchain.text_splitter import RecursiveCharacterTextSplitter\n",
        "from langchain.vectorstores import Chroma\n",
        "from langchain.prompts import ChatPromptTemplate\n",
        "from langchain.chat_models import ChatOpenAI\n",
        "from langchain_huggingface import HuggingFaceEmbeddings"
      ]
    },
    {
      "cell_type": "markdown",
      "source": [
        "# DIVISÃO DO LIVRO EM CHUNKS"
      ],
      "metadata": {
        "id": "FGnAIz2VNPbA"
      }
    },
    {
      "cell_type": "code",
      "source": [
        "path = \"/content/Livro-Cardiologia.pdf\"\n",
        "\n",
        "loader = PyPDFLoader(path)\n",
        "pages = loader.load()"
      ],
      "metadata": {
        "id": "ZMvj2QQ9BW5c"
      },
      "execution_count": null,
      "outputs": []
    },
    {
      "cell_type": "code",
      "source": [
        "text_splitter = RecursiveCharacterTextSplitter(chunk_size=1000, chunk_overlap=200)\n",
        "chunks = text_splitter.split_documents(pages)"
      ],
      "metadata": {
        "id": "-_IKCz-RBgV2"
      },
      "execution_count": null,
      "outputs": []
    },
    {
      "cell_type": "markdown",
      "source": [
        "# CARREGANDO O MODELO DE EMBEDDINGS"
      ],
      "metadata": {
        "id": "F8loSc3mNSs9"
      }
    },
    {
      "cell_type": "code",
      "source": [
        "model_name = \"BAAI/bge-m3\"\n",
        "model_kwargs = {\"device\": \"cuda\"}\n",
        "encode_kwargs = {\"normalize_embeddings\": True}\n",
        "\n",
        "embeddings = HuggingFaceEmbeddings(\n",
        "    model_name=model_name,\n",
        "    model_kwargs=model_kwargs,\n",
        "    encode_kwargs=encode_kwargs\n",
        ")"
      ],
      "metadata": {
        "id": "jw7IvScCBj1e"
      },
      "execution_count": null,
      "outputs": []
    },
    {
      "cell_type": "code",
      "source": [
        "CHROMA_PATH = \"ragV1-lm\"\n",
        "db_chroma = Chroma.from_documents(chunks, embeddings, persist_directory=CHROMA_PATH)"
      ],
      "metadata": {
        "id": "4yDeX3ukB0uZ"
      },
      "execution_count": null,
      "outputs": []
    },
    {
      "cell_type": "code",
      "source": [
        "query = 'O que é o infarto agudo do miocárdio?'"
      ],
      "metadata": {
        "id": "mtyn68RKK4cR"
      },
      "execution_count": null,
      "outputs": []
    },
    {
      "cell_type": "code",
      "source": [
        "docs_chroma = db_chroma.similarity_search_with_score(query, k=5)\n",
        "context_text = \"\\n\\n\".join([doc.page_content for doc, _score in docs_chroma])"
      ],
      "metadata": {
        "id": "ww6ohyiQK55-"
      },
      "execution_count": null,
      "outputs": []
    },
    {
      "cell_type": "markdown",
      "source": [
        "# PROMPT"
      ],
      "metadata": {
        "id": "pZXFXhX7K7Id"
      }
    },
    {
      "cell_type": "code",
      "source": [
        "PROMPT_TEMPLATE = \"\"\"\n",
        "## 1. PAPEL E OBJETIVO\n",
        "Você é um assistente de IA especializado em analisar e resumir informações sobre cardiologia. Seu único objetivo é responder às perguntas do usuário baseando-se estritamente no texto fornecido no {context}. Você NÃO é um médico e não deve, em hipótese alguma, fornecer conselhos, diagnósticos ou sugerir tratamentos.\n",
        "\n",
        "## 2. CONTEXTO DA INFORMAÇÃO\n",
        "{context}\n",
        "\n",
        "## 3. PERGUNTA DO USUÁRIO\n",
        "{question}\n",
        "\n",
        "## 4. DIRETRIZES PARA A RESPOSTA\n",
        "- **Fidelidade ao Texto:** Sua resposta deve ser 100% baseada nas informações contidas no {context}. Não infira, não adicione conhecimento externo e não complete informações que não estejam presentes.\n",
        "- **Clareza e Detalhe:** Forneça uma resposta detalhada e bem explicada. Se o contexto mencionar termos técnicos (ex: \"inversão da onda T\", \"complexo QRS largo\"), explique o que eles significam de forma simples, conforme descrito no próprio texto.\n",
        "- **Estrutura:** Organize a resposta de forma clara. Use parágrafos curtos e, se for útil, utilize listas com marcadores (bullet points) para apresentar características, sintomas ou passos.\n",
        "- **Linguagem Natural:** Integre a informação do contexto na sua resposta de forma fluida. Não use frases como \"segundo o contexto\" ou \"o texto menciona que\".\n",
        "\n",
        "## 5. AVISO OBRIGATÓRIO\n",
        "Ao final de CADA resposta, inclua a seguinte isenção de responsabilidade, exatamente como está escrita abaixo e em uma nova linha:\n",
        "\n",
        "---\n",
        "**AVISO:** Esta informação é gerada por IA para fins educacionais e não substitui uma consulta médica. Para diagnóstico e tratamento, consulte sempre um cardiologista ou outro profissional de saúde qualificado.\n",
        "\"\"\""
      ],
      "metadata": {
        "id": "IhK8ubkTK8en"
      },
      "execution_count": null,
      "outputs": []
    },
    {
      "cell_type": "markdown",
      "source": [
        "# RESPOSTA DO MODELO"
      ],
      "metadata": {
        "id": "MJ_yYR8iK-Rj"
      }
    },
    {
      "cell_type": "code",
      "source": [
        "prompt_template = ChatPromptTemplate.from_template(PROMPT_TEMPLATE)\n",
        "prompt = prompt_template.format(context=context_text, question=query)\n",
        "\n",
        "model = ChatOpenAI(api_key=openai_api_key, model=\"gpt-4o\")\n",
        "response = model.invoke(prompt)\n",
        "response_text = response.content"
      ],
      "metadata": {
        "id": "vxnZKEuDK_ee"
      },
      "execution_count": null,
      "outputs": []
    },
    {
      "cell_type": "code",
      "source": [
        "print(response_text)"
      ],
      "metadata": {
        "colab": {
          "base_uri": "https://localhost:8080/"
        },
        "id": "AL-VefW3LA7p",
        "outputId": "b75f1862-9179-4d4d-aaf6-d9f687295f1a"
      },
      "execution_count": null,
      "outputs": [
        {
          "output_type": "stream",
          "name": "stdout",
          "text": [
            "O infarto agudo do miocárdio (IAM) é caracterizado pela morte das células do miocárdio devido à isquemia, ou seja, uma insuficiência de oxigênio no músculo cardíaco. Durante a fase aguda do infarto, os miócitos, que são as células do músculo cardíaco, morrem na área afetada. Isso leva a uma resposta inflamatória, com remoção dos tecidos mortos e subsequente reparo, resultando na formação de uma cicatriz.\n",
            "\n",
            "O diagnóstico clínico de IAM exige a presença de uma síndrome clínica que indique isquemia do miocárdio, acompanhada por evidências de necrose miocárdica. Essa evidência pode ser obtida por meio de exames bioquímicos, como a detecção de biomarcadores cardíacos, eletrocardiogramas, ou por técnicas de imagem. A sensibilidade e especificidade dessas ferramentas de diagnóstico podem variar.\n",
            "\n",
            "O infarto do miocárdio geralmente ocorre quando a demanda de oxigênio do miocárdio excede a oferta, frequentemente devido à aterosclerose coronariana ou espasmos coronarianos. Causas menos comuns incluem condições que afetam o fluxo sanguíneo nas artérias coronárias, como arterite, aortite, dissecções e embolias coronarianas.\n",
            "\n",
            "Para definir um infarto agudo do miocárdio, deve haver evidência de necrose miocárdica em um contexto clínico de isquemia miocárdica aguda, com um aumento ou queda nos valores de biomarcadores cardíacos, preferencialmente a troponina cardíaca (cTn), com pelo menos um valor acima do percentil 99 do limite superior de referência, além de sintomas de isquemia.\n",
            "\n",
            "---\n",
            "**AVISO:** Esta informação é gerada por IA para fins educacionais e não substitui uma consulta médica. Para diagnóstico e tratamento, consulte sempre um cardiologista ou outro profissional de saúde qualificado.\n"
          ]
        }
      ]
    }
  ]
}